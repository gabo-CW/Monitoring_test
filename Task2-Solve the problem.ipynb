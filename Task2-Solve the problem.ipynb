{
  "nbformat": 4,
  "nbformat_minor": 0,
  "metadata": {
    "colab": {
      "provenance": [],
      "authorship_tag": "ABX9TyNXXMmzqC8ihI15qcvONhnY",
      "include_colab_link": true
    },
    "kernelspec": {
      "name": "python3",
      "display_name": "Python 3"
    },
    "language_info": {
      "name": "python"
    }
  },
  "cells": [
    {
      "cell_type": "markdown",
      "metadata": {
        "id": "view-in-github",
        "colab_type": "text"
      },
      "source": [
        "<a href=\"https://colab.research.google.com/github/gabo-CW/Monitoring_test/blob/main/Task2-Solve%20the%20problem.ipynb\" target=\"_parent\"><img src=\"https://colab.research.google.com/assets/colab-badge.svg\" alt=\"Open In Colab\"/></a>"
      ]
    },
    {
      "cell_type": "code",
      "execution_count": 4,
      "metadata": {
        "id": "5NzOINJU_DL2"
      },
      "outputs": [],
      "source": [
        "import pandas as pd\n",
        "import sqlite3\n",
        "import plotly.express as px\n",
        "import matplotlib.pyplot as plt"
      ]
    },
    {
      "cell_type": "code",
      "source": [
        "conn = sqlite3.connect('case1_transactions.db')"
      ],
      "metadata": {
        "id": "oWBanLJe_NWY"
      },
      "execution_count": 5,
      "outputs": []
    },
    {
      "cell_type": "code",
      "source": [
        "df1 = pd.read_csv('transactions_1.csv')\n",
        "df2 = pd.read_csv('transactions_2.csv')"
      ],
      "metadata": {
        "id": "rgIbxMWkAl5S"
      },
      "execution_count": 6,
      "outputs": []
    },
    {
      "cell_type": "code",
      "source": [
        "df1.to_sql('tabela1', conn, if_exists='replace', index=False)\n",
        "df2.to_sql('tabela2', conn, if_exists='replace', index=False)"
      ],
      "metadata": {
        "id": "xENAD3QYAoDN"
      },
      "execution_count": null,
      "outputs": []
    },
    {
      "cell_type": "code",
      "source": [
        "conn = sqlite3.connect('case1_transactions.db')"
      ],
      "metadata": {
        "id": "ojQUzcnHC8QZ"
      },
      "execution_count": 8,
      "outputs": []
    },
    {
      "cell_type": "code",
      "source": [
        "query = \"SELECT * FROM tabela1\"\n",
        "query2 = \"SELECT * FROM tabela2\""
      ],
      "metadata": {
        "id": "EqSqG9vDDA4k"
      },
      "execution_count": 9,
      "outputs": []
    },
    {
      "cell_type": "code",
      "source": [
        "df_resultado = pd.read_sql_query(query, conn)\n",
        "df_resultado2 = pd.read_sql_query(query2, conn)"
      ],
      "metadata": {
        "id": "4AOFhelgDC75"
      },
      "execution_count": 10,
      "outputs": []
    },
    {
      "cell_type": "code",
      "source": [
        "print(df_resultado)\n",
        "print(\"----------------------------------------------------------------------------\")\n",
        "print(df_resultado2)"
      ],
      "metadata": {
        "id": "hoLSgVzNDEkQ",
        "collapsed": true
      },
      "execution_count": null,
      "outputs": []
    },
    {
      "cell_type": "code",
      "source": [
        "for status in df1['status'].unique():\n",
        "    subset = df1[df1['status'] == status]\n",
        "    plt.plot(subset['time'], subset['f0_'], label=status)\n",
        "\n",
        "# Preparing the first dataframe to analise\n",
        "time_status_combinations = pd.MultiIndex.from_product([df1['time'].unique(), df1['status'].unique()], names=['time', 'status'])\n",
        "df1_full = df1.set_index(['time', 'status']).reindex(time_status_combinations, fill_value=0).reset_index()\n",
        "\n",
        "tab = px.line(df1_full, x='time', y='f0_', color='status', markers=True,\n",
        "              title='Transações por Status ao longo do Tempo df1')\n",
        "\n",
        "tab.update_layout(\n",
        "    xaxis_title='Time',\n",
        "    yaxis_title='Transactions',\n",
        "    hovermode='x unified',  # Show all the informations on X\n",
        ")"
      ],
      "metadata": {
        "id": "o9EUHPFEKCLR"
      },
      "execution_count": null,
      "outputs": []
    },
    {
      "cell_type": "code",
      "source": [
        "for status in df1['status'].unique():\n",
        "    subset = df1[df1['status'] == status]\n",
        "    plt.plot(subset['time'], subset['f0_'], label=status)\n",
        "\n",
        "# Preparing the second dataframe to analise\n",
        "time_status_combinations = pd.MultiIndex.from_product([df2['time'].unique(), df2['status'].unique()], names=['time', 'status'])\n",
        "df2_full = df2.set_index(['time', 'status']).reindex(time_status_combinations, fill_value=0).reset_index()\n",
        "\n",
        "tab = px.line(df2_full, x='time', y='count', color='status', markers=True,\n",
        "              title='Transações por Status ao longo do Tempo df2')\n",
        "\n",
        "tab.update_layout(\n",
        "    xaxis_title='Time',\n",
        "    yaxis_title='Transactions',\n",
        "    hovermode='x unified',  # Mostra todas as informações em um único hover\n",
        ")"
      ],
      "metadata": {
        "id": "7blC-3lLNPXC"
      },
      "execution_count": null,
      "outputs": []
    },
    {
      "cell_type": "code",
      "source": [
        "# avg_by_status_df1 = df1.groupby('status')['f0_'].mean().round(2)\n",
        "# outlier_low = df1.groupby('status')['f0_'].quantile(0.2)\n",
        "# outlier_high = df1.groupby('status')['f0_'].quantile(0.8)\n",
        "# avg_without_outliers = df1.groupby('status').apply(lambda x: x[(x['f0_'] >= outlier_low[x.name]) & (x['f0_'] <= outlier_high[x.name])]['f0_'].mean()).round(2)\n",
        "# print(avg_without_outliers)\n",
        "\n",
        "# print('--------------------------')\n",
        "\n",
        "mean_by_status = df1.groupby('status')['f0_'].mean()\n",
        "std_by_status = df1.groupby('status')['f0_'].std()\n",
        "\n",
        "avg_without_outliers_df1 = df1.groupby('status').apply(\n",
        "    lambda x: x[(x['f0_'] >= (mean_by_status[x.name] - 2 * std_by_status[x.name])) &\n",
        "                (x['f0_'] <= (mean_by_status[x.name] + 2 * std_by_status[x.name]))]['f0_'].mean()\n",
        ").round(2)\n",
        "print('Excluindo outliers baseado no desvio padrão', avg_without_outliers_df1)\n",
        "\n",
        "# print('--------------------------')\n",
        "\n",
        "\n",
        "# avg_by_status_df1 = df1.groupby('status')['f0_'].mean().round(2)\n",
        "# print(avg_by_status_df1)"
      ],
      "metadata": {
        "id": "hlGX7U_SxAzS"
      },
      "execution_count": null,
      "outputs": []
    },
    {
      "cell_type": "code",
      "source": [
        "mean_by_status = df2.groupby('status')['count'].mean()\n",
        "std_by_status = df2.groupby('status')['count'].std()\n",
        "\n",
        "avg_without_outliers_df2 = df2.groupby('status').apply(\n",
        "    lambda x: x[(x['count'] >= (mean_by_status[x.name] - 2 * std_by_status[x.name])) &\n",
        "                (x['count'] <= (mean_by_status[x.name] + 2 * std_by_status[x.name]))]['count'].mean()\n",
        ").round(2)\n",
        "print('Excluindo outliers baseado no desvio padrão', avg_without_outliers_df2)"
      ],
      "metadata": {
        "id": "DoOyITqL9_2o"
      },
      "execution_count": null,
      "outputs": []
    },
    {
      "cell_type": "code",
      "source": [
        "# Function about check if the set of transactions requires an alert\n",
        "def check_anomaly(transaction_time, transaction_status, transaction_count, mean_values):\n",
        "    if transaction_status == 'approved':\n",
        "      return None\n",
        "    if transaction_status in mean_values and (transaction_status == 'denied' or transaction_status == 'reversed' or transaction_status == 'failed' or transaction_status == 'backend_reversed'):\n",
        "        mean_value = mean_values[transaction_status]\n",
        "        # The rule for the alert is to be the twice of average\n",
        "        if transaction_count > mean_value * 2:\n",
        "            return f\"{transaction_time} High number of {transaction_status} transactions ({transaction_count})\"\n",
        "    return None"
      ],
      "metadata": {
        "id": "RO2qe_FZI6HY"
      },
      "execution_count": 16,
      "outputs": []
    },
    {
      "cell_type": "code",
      "source": [
        "# Check_anomaly test\n",
        "sample_df1 = df1[['time', 'status', 'f0_']].apply(lambda row: check_anomaly(row['time'], row['status'], row['f0_'], avg_without_outliers_df1), axis=1)\n",
        "sample_df2 = df2[['time', 'status', 'count']].apply(lambda row: check_anomaly(row['time'], row['status'], row['count'], avg_without_outliers_df2), axis=1)"
      ],
      "metadata": {
        "id": "zuDxbplOJIot"
      },
      "execution_count": 17,
      "outputs": []
    },
    {
      "cell_type": "code",
      "source": [
        "alerts_df1 = sample_df1.dropna()\n",
        "alerts_df2 = sample_df2.dropna()\n",
        "\n",
        "print('Transactions_1\\n', alerts_df1, '\\n')\n",
        "print('Transactions_2\\n', alerts_df2, '\\n')"
      ],
      "metadata": {
        "id": "4MlIuMaSJSyN"
      },
      "execution_count": null,
      "outputs": []
    },
    {
      "cell_type": "code",
      "source": [
        "# Make anomalies dataframes\n",
        "anomalies_df1 = df1[df1.apply(lambda row: check_anomaly(row['time'], row['status'], row['f0_'], avg_without_outliers_df1) is not None, axis=1)]\n",
        "anomalies_df2 = df2[df2.apply(lambda row: check_anomaly(row['time'], row['status'], row['count'], avg_without_outliers_df2) is not None, axis=1)]\n",
        "\n",
        "# Make static anomalies chart\n",
        "fig1 = px.scatter(anomalies_df1, x='time', y='f0_', color='status', title='Anomalias nas Transações (df1)',\n",
        "                  labels={'f0_': 'Número de Transações', 'time': 'Tempo'})\n",
        "fig1.update_layout(xaxis_title='Tempo', yaxis_title='Número de Transações')\n",
        "\n",
        "fig2 = px.scatter(anomalies_df2, x='time', y='count', color='status', title='Anomalias nas Transações (df2)',\n",
        "                  labels={'count': 'Número de Transações', 'time': 'Tempo'})\n",
        "fig2.update_layout(xaxis_title='Tempo', yaxis_title='Número de Transações')\n",
        "\n",
        "fig1.show()\n",
        "fig2.show()"
      ],
      "metadata": {
        "id": "wIusUfUhdf9T"
      },
      "execution_count": null,
      "outputs": []
    },
    {
      "cell_type": "code",
      "source": [
        "from google.colab import userdata\n",
        "secret_key = userdata.get('ngrok_auth')"
      ],
      "metadata": {
        "id": "mOFMleoRZqkd"
      },
      "execution_count": 28,
      "outputs": []
    },
    {
      "cell_type": "code",
      "source": [
        "!pip install flask\n",
        "!pip install pyngrok\n",
        "!ngrok authtoken {secret_key}"
      ],
      "metadata": {
        "id": "lKCt7l5RoVcV"
      },
      "execution_count": null,
      "outputs": []
    },
    {
      "cell_type": "code",
      "source": [
        "from flask import Flask, request, jsonify\n",
        "from pyngrok import ngrok\n",
        "import threading\n",
        "\n",
        "app = Flask(__name__)\n",
        "\n",
        "@app.route('/check_transaction', methods=['POST'])\n",
        "def check_transaction():\n",
        "    transaction_data = request.get_json()\n",
        "\n",
        "    status = transaction_data.get('status')\n",
        "    count = transaction_data.get('count')\n",
        "    transaction_time = transaction_data.get('time')\n",
        "\n",
        "    # Check the anomalies\n",
        "    alert_message = check_anomaly(transaction_time, status, count, avg_without_outliers_df2) #or check_anomaly(transaction_time, status, count, avg_without_outliers_df2)\n",
        "\n",
        "    if alert_message:\n",
        "        return jsonify({\"alert\": alert_message}), 200\n",
        "    return jsonify({\"message\": \"No anomalies detected\"}), 204\n",
        "    # return '', 204\n",
        "\n",
        "\n",
        "def run_flask():\n",
        "    # Start ngrok tunnel for port 8000\n",
        "    public_url = ngrok.connect(8000)\n",
        "    print(f\" * ngrok tunnel available at {public_url}\")\n",
        "\n",
        "    app.run(port=8000)\n",
        "\n",
        "# Using a thread to run in the background\n",
        "thread = threading.Thread(target=run_flask)\n",
        "thread.start()"
      ],
      "metadata": {
        "id": "tfJUDYWqmg_L"
      },
      "execution_count": 30,
      "outputs": []
    },
    {
      "cell_type": "code",
      "source": [
        "import requests\n",
        "ngrokurl = \"https://b4a4-35-221-247-93.ngrok-free.app/check_transaction\"  # URL from ngrok\n",
        "\n",
        "# Function to send transactions to Flask endpoint and show the result\n",
        "def send_transactions(df, status_col, count_col):\n",
        "    for index, row in df.iterrows():\n",
        "        transaction_data = {\n",
        "            \"status\": row[status_col],\n",
        "            \"count\": row[count_col]\n",
        "        }\n",
        "        response = requests.post(ngrokurl, json=transaction_data)\n",
        "\n",
        "        # Check the status code\n",
        "        if response.status_code == 200:\n",
        "            result = response.json()\n",
        "            print(f\"Transaction {index+1}: {result}\")\n",
        "        elif response.status_code == 204:\n",
        "          # continue\n",
        "            print(f\"Transaction {index+1}: No anomalies detected\")\n",
        "        else:\n",
        "            # continue\n",
        "            print(f\"Transaction {index+1}: Unexpected response status {response.status_code}\")\n",
        "\n",
        "print(\"Testing transactions from file 1...\")\n",
        "send_transactions(df1, 'status', 'f0_')\n",
        "\n",
        "print(\"Testing transactions from file 2...\")\n",
        "send_transactions(df2, 'status', 'count')\n",
        "\n",
        "# Check the static response just to test, delete after\n",
        "# response = requests.post(ngrokurl, json={\"status\": \"denied\", \"count\": 1033})\n",
        "# result = response.json()\n",
        "\n",
        "print(response.json())"
      ],
      "metadata": {
        "id": "L_dpjWZsr8_V"
      },
      "execution_count": null,
      "outputs": []
    }
  ]
}